{
 "cells": [
  {
   "cell_type": "markdown",
   "id": "61eb1a66",
   "metadata": {},
   "source": [
    "# Install necessary packages"
   ]
  },
  {
   "cell_type": "code",
   "execution_count": 1,
   "id": "c48a0f7d",
   "metadata": {},
   "outputs": [
    {
     "name": "stdout",
     "output_type": "stream",
     "text": [
      "Requirement already satisfied: pandas<3.0,>=1.5 in /home/codespace/.local/lib/python3.12/site-packages (from -r requirements.txt (line 2)) (2.2.3)\n",
      "Requirement already satisfied: numpy<3.0,>=1.20 in /home/codespace/.local/lib/python3.12/site-packages (from -r requirements.txt (line 3)) (2.2.6)\n",
      "Requirement already satisfied: scikit-learn<2.0,>=1.0 in /home/codespace/.local/lib/python3.12/site-packages (from -r requirements.txt (line 4)) (1.6.1)\n",
      "Requirement already satisfied: xgboost<3.0,>=1.5 in /home/codespace/.local/lib/python3.12/site-packages (from -r requirements.txt (line 5)) (2.1.4)\n",
      "Requirement already satisfied: imbalanced-learn<1.0,>=0.9 in /home/codespace/.local/lib/python3.12/site-packages (from -r requirements.txt (line 6)) (0.13.0)\n",
      "Requirement already satisfied: matplotlib<4.0,>=3.5 in /home/codespace/.local/lib/python3.12/site-packages (from -r requirements.txt (line 7)) (3.10.3)\n",
      "Requirement already satisfied: seaborn<1.0,>=0.11 in /home/codespace/.local/lib/python3.12/site-packages (from -r requirements.txt (line 8)) (0.13.2)\n",
      "Requirement already satisfied: ipykernel in /home/codespace/.local/lib/python3.12/site-packages (from -r requirements.txt (line 9)) (6.29.5)\n",
      "Requirement already satisfied: python-dateutil>=2.8.2 in /home/codespace/.local/lib/python3.12/site-packages (from pandas<3.0,>=1.5->-r requirements.txt (line 2)) (2.9.0.post0)\n",
      "Requirement already satisfied: pytz>=2020.1 in /home/codespace/.local/lib/python3.12/site-packages (from pandas<3.0,>=1.5->-r requirements.txt (line 2)) (2025.2)\n",
      "Requirement already satisfied: tzdata>=2022.7 in /home/codespace/.local/lib/python3.12/site-packages (from pandas<3.0,>=1.5->-r requirements.txt (line 2)) (2025.2)\n",
      "Requirement already satisfied: scipy>=1.6.0 in /home/codespace/.local/lib/python3.12/site-packages (from scikit-learn<2.0,>=1.0->-r requirements.txt (line 4)) (1.15.3)\n",
      "Requirement already satisfied: joblib>=1.2.0 in /home/codespace/.local/lib/python3.12/site-packages (from scikit-learn<2.0,>=1.0->-r requirements.txt (line 4)) (1.5.0)\n",
      "Requirement already satisfied: threadpoolctl>=3.1.0 in /home/codespace/.local/lib/python3.12/site-packages (from scikit-learn<2.0,>=1.0->-r requirements.txt (line 4)) (3.6.0)\n",
      "Requirement already satisfied: nvidia-nccl-cu12 in /home/codespace/.local/lib/python3.12/site-packages (from xgboost<3.0,>=1.5->-r requirements.txt (line 5)) (2.26.5)\n",
      "Requirement already satisfied: sklearn-compat<1,>=0.1 in /home/codespace/.local/lib/python3.12/site-packages (from imbalanced-learn<1.0,>=0.9->-r requirements.txt (line 6)) (0.1.3)\n",
      "Requirement already satisfied: contourpy>=1.0.1 in /home/codespace/.local/lib/python3.12/site-packages (from matplotlib<4.0,>=3.5->-r requirements.txt (line 7)) (1.3.2)\n",
      "Requirement already satisfied: cycler>=0.10 in /home/codespace/.local/lib/python3.12/site-packages (from matplotlib<4.0,>=3.5->-r requirements.txt (line 7)) (0.12.1)\n",
      "Requirement already satisfied: fonttools>=4.22.0 in /home/codespace/.local/lib/python3.12/site-packages (from matplotlib<4.0,>=3.5->-r requirements.txt (line 7)) (4.58.0)\n",
      "Requirement already satisfied: kiwisolver>=1.3.1 in /home/codespace/.local/lib/python3.12/site-packages (from matplotlib<4.0,>=3.5->-r requirements.txt (line 7)) (1.4.8)\n",
      "Requirement already satisfied: packaging>=20.0 in /home/codespace/.local/lib/python3.12/site-packages (from matplotlib<4.0,>=3.5->-r requirements.txt (line 7)) (25.0)\n",
      "Requirement already satisfied: pillow>=8 in /home/codespace/.local/lib/python3.12/site-packages (from matplotlib<4.0,>=3.5->-r requirements.txt (line 7)) (11.2.1)\n",
      "Requirement already satisfied: pyparsing>=2.3.1 in /home/codespace/.local/lib/python3.12/site-packages (from matplotlib<4.0,>=3.5->-r requirements.txt (line 7)) (3.2.3)\n",
      "Requirement already satisfied: comm>=0.1.1 in /home/codespace/.local/lib/python3.12/site-packages (from ipykernel->-r requirements.txt (line 9)) (0.2.2)\n",
      "Requirement already satisfied: debugpy>=1.6.5 in /home/codespace/.local/lib/python3.12/site-packages (from ipykernel->-r requirements.txt (line 9)) (1.8.14)\n",
      "Requirement already satisfied: ipython>=7.23.1 in /home/codespace/.local/lib/python3.12/site-packages (from ipykernel->-r requirements.txt (line 9)) (9.2.0)\n",
      "Requirement already satisfied: jupyter-client>=6.1.12 in /home/codespace/.local/lib/python3.12/site-packages (from ipykernel->-r requirements.txt (line 9)) (8.6.3)\n",
      "Requirement already satisfied: jupyter-core!=5.0.*,>=4.12 in /home/codespace/.local/lib/python3.12/site-packages (from ipykernel->-r requirements.txt (line 9)) (5.7.2)\n",
      "Requirement already satisfied: matplotlib-inline>=0.1 in /home/codespace/.local/lib/python3.12/site-packages (from ipykernel->-r requirements.txt (line 9)) (0.1.7)\n",
      "Requirement already satisfied: nest-asyncio in /home/codespace/.local/lib/python3.12/site-packages (from ipykernel->-r requirements.txt (line 9)) (1.6.0)\n",
      "Requirement already satisfied: psutil in /home/codespace/.local/lib/python3.12/site-packages (from ipykernel->-r requirements.txt (line 9)) (7.0.0)\n",
      "Requirement already satisfied: pyzmq>=24 in /home/codespace/.local/lib/python3.12/site-packages (from ipykernel->-r requirements.txt (line 9)) (26.4.0)\n",
      "Requirement already satisfied: tornado>=6.1 in /home/codespace/.local/lib/python3.12/site-packages (from ipykernel->-r requirements.txt (line 9)) (6.5)\n",
      "Requirement already satisfied: traitlets>=5.4.0 in /home/codespace/.local/lib/python3.12/site-packages (from ipykernel->-r requirements.txt (line 9)) (5.14.3)\n",
      "Requirement already satisfied: decorator in /home/codespace/.local/lib/python3.12/site-packages (from ipython>=7.23.1->ipykernel->-r requirements.txt (line 9)) (5.2.1)\n",
      "Requirement already satisfied: ipython-pygments-lexers in /home/codespace/.local/lib/python3.12/site-packages (from ipython>=7.23.1->ipykernel->-r requirements.txt (line 9)) (1.1.1)\n",
      "Requirement already satisfied: jedi>=0.16 in /home/codespace/.local/lib/python3.12/site-packages (from ipython>=7.23.1->ipykernel->-r requirements.txt (line 9)) (0.19.2)\n",
      "Requirement already satisfied: pexpect>4.3 in /home/codespace/.local/lib/python3.12/site-packages (from ipython>=7.23.1->ipykernel->-r requirements.txt (line 9)) (4.9.0)\n",
      "Requirement already satisfied: prompt_toolkit<3.1.0,>=3.0.41 in /home/codespace/.local/lib/python3.12/site-packages (from ipython>=7.23.1->ipykernel->-r requirements.txt (line 9)) (3.0.51)\n",
      "Requirement already satisfied: pygments>=2.4.0 in /home/codespace/.local/lib/python3.12/site-packages (from ipython>=7.23.1->ipykernel->-r requirements.txt (line 9)) (2.19.1)\n",
      "Requirement already satisfied: stack_data in /home/codespace/.local/lib/python3.12/site-packages (from ipython>=7.23.1->ipykernel->-r requirements.txt (line 9)) (0.6.3)\n",
      "Requirement already satisfied: platformdirs>=2.5 in /home/codespace/.local/lib/python3.12/site-packages (from jupyter-core!=5.0.*,>=4.12->ipykernel->-r requirements.txt (line 9)) (4.3.8)\n",
      "Requirement already satisfied: six>=1.5 in /home/codespace/.local/lib/python3.12/site-packages (from python-dateutil>=2.8.2->pandas<3.0,>=1.5->-r requirements.txt (line 2)) (1.17.0)\n",
      "Requirement already satisfied: parso<0.9.0,>=0.8.4 in /home/codespace/.local/lib/python3.12/site-packages (from jedi>=0.16->ipython>=7.23.1->ipykernel->-r requirements.txt (line 9)) (0.8.4)\n",
      "Requirement already satisfied: ptyprocess>=0.5 in /home/codespace/.local/lib/python3.12/site-packages (from pexpect>4.3->ipython>=7.23.1->ipykernel->-r requirements.txt (line 9)) (0.7.0)\n",
      "Requirement already satisfied: wcwidth in /home/codespace/.local/lib/python3.12/site-packages (from prompt_toolkit<3.1.0,>=3.0.41->ipython>=7.23.1->ipykernel->-r requirements.txt (line 9)) (0.2.13)\n",
      "Requirement already satisfied: executing>=1.2.0 in /home/codespace/.local/lib/python3.12/site-packages (from stack_data->ipython>=7.23.1->ipykernel->-r requirements.txt (line 9)) (2.2.0)\n",
      "Requirement already satisfied: asttokens>=2.1.0 in /home/codespace/.local/lib/python3.12/site-packages (from stack_data->ipython>=7.23.1->ipykernel->-r requirements.txt (line 9)) (3.0.0)\n",
      "Requirement already satisfied: pure-eval in /home/codespace/.local/lib/python3.12/site-packages (from stack_data->ipython>=7.23.1->ipykernel->-r requirements.txt (line 9)) (0.2.3)\n",
      "\n",
      "\u001b[1m[\u001b[0m\u001b[34;49mnotice\u001b[0m\u001b[1;39;49m]\u001b[0m\u001b[39;49m A new release of pip is available: \u001b[0m\u001b[31;49m25.0.1\u001b[0m\u001b[39;49m -> \u001b[0m\u001b[32;49m25.1.1\u001b[0m\n",
      "\u001b[1m[\u001b[0m\u001b[34;49mnotice\u001b[0m\u001b[1;39;49m]\u001b[0m\u001b[39;49m To update, run: \u001b[0m\u001b[32;49mpip install --upgrade pip\u001b[0m\n",
      "Note: you may need to restart the kernel to use updated packages.\n"
     ]
    }
   ],
   "source": [
    "%pip install -r requirements.txt"
   ]
  },
  {
   "cell_type": "markdown",
   "id": "94ef1c42",
   "metadata": {},
   "source": [
    "## 1. Setup\n",
    "\n",
    "Import necessary libraries."
   ]
  },
  {
   "cell_type": "code",
   "execution_count": 2,
   "id": "14b47ad8",
   "metadata": {},
   "outputs": [],
   "source": [
    "import pandas as pd\n",
    "import numpy as np\n",
    "import os\n",
    "from sklearn.model_selection import train_test_split\n",
    "from sklearn.ensemble import RandomForestClassifier\n",
    "import xgboost as xgb\n",
    "from sklearn.metrics import roc_auc_score\n",
    "from sklearn.impute import SimpleImputer"
   ]
  },
  {
   "cell_type": "markdown",
   "id": "25e285d5",
   "metadata": {},
   "source": [
    "## 2. Data Loading\n",
    "\n",
    "Load the dataset."
   ]
  },
  {
   "cell_type": "code",
   "execution_count": 3,
   "id": "53c42341",
   "metadata": {},
   "outputs": [],
   "source": [
    "def load_data(file_path):\n",
    "    \"\"\"\n",
    "    Load the synthetic health data from a CSV file.\n",
    "    \n",
    "    Args:\n",
    "        file_path: Path to the CSV file\n",
    "        \n",
    "    Returns:\n",
    "        DataFrame containing the data with timestamp parsed as datetime\n",
    "    \"\"\"\n",
    "    # Load the CSV file using pandas\n",
    "    # Make sure to parse the timestamp column as datetime\n",
    "    \n",
    "    return pd.read_csv(file_path, parse_dates=['timestamp'])\n"
   ]
  },
  {
   "cell_type": "markdown",
   "id": "424b9c27",
   "metadata": {},
   "source": [
    "## 3. Feature Engineering\n",
    "\n",
    "Implement `extract_rolling_features` to calculate rolling mean and standard deviation for the `heart_rate`."
   ]
  },
  {
   "cell_type": "code",
   "execution_count": 4,
   "id": "d4d3c5dc",
   "metadata": {},
   "outputs": [],
   "source": [
    "def extract_rolling_features(df, window_size_seconds):\n",
    "    \"\"\"\n",
    "    Calculate rolling mean and standard deviation for heart rate.\n",
    "    \n",
    "    Args:\n",
    "        df: DataFrame with timestamp and heart_rate columns\n",
    "        window_size_seconds: Size of the rolling window in seconds\n",
    "        \n",
    "    Returns:\n",
    "        DataFrame with added hr_rolling_mean and hr_rolling_std columns\n",
    "    \"\"\"\n",
    "    # 1. Sort data by timestamp\n",
    "    #    df_sorted = df.sort_values('timestamp')\n",
    "    \n",
    "    # 2. Set timestamp as index (this allows time-based operations)\n",
    "    #    df_indexed = df_sorted.set_index('timestamp')\n",
    "    \n",
    "    # 3. Calculate rolling mean and standard deviation\n",
    "    #    - First, create a rolling window object based on time:\n",
    "    #      rolling_window = df_indexed['heart_rate'].rolling(window=f'{window_size_seconds}s')\n",
    "    #    - Then calculate statistics on this window:\n",
    "    #      hr_mean = rolling_window.mean()\n",
    "    #      hr_std = rolling_window.std()\n",
    "    \n",
    "    # 4. Add the new columns back to the dataframe\n",
    "    #    df_indexed['hr_rolling_mean'] = hr_mean\n",
    "    #    df_indexed['hr_rolling_std'] = hr_std\n",
    "    \n",
    "    # 5. Reset index to bring timestamp back as a column\n",
    "    #    df_result = df_indexed.reset_index()\n",
    "    \n",
    "    # 6. Handle any NaN values (rolling calculations create NaNs at the beginning)\n",
    "    #    - You can use fillna, dropna, or other methods depending on your strategy\n",
    "    #    df_result = df_result.fillna(method='bfill')  # Example: backward fill\n",
    "    \n",
    "    df_sorted = df.sort_values('timestamp')\n",
    "    df_indexed = df_sorted.set_index('timestamp')\n",
    "    \n",
    "    rolling_window = df_indexed['heart_rate'].rolling(f'{window_size_seconds}s')\n",
    "    \n",
    "    df_indexed['hr_rolling_mean'] = rolling_window.mean()\n",
    "    df_indexed['hr_rolling_std'] = rolling_window.std()\n",
    "    \n",
    "    df_result = df_indexed.reset_index()\n",
    "    \n",
    "    # Backward fill missing values (or change to df_result.dropna() if you prefer)\n",
    "    df_result = df_result.fillna(method='bfill')\n",
    "    \n",
    "    return df_result\n"
   ]
  },
  {
   "cell_type": "markdown",
   "id": "f45849b8",
   "metadata": {},
   "source": [
    "## 4. Data Preparation\n",
    "\n",
    "Implement `prepare_data_part2` using the newly engineered features."
   ]
  },
  {
   "cell_type": "code",
   "execution_count": 5,
   "id": "fa52a1c8",
   "metadata": {},
   "outputs": [],
   "source": [
    "def prepare_data_part2(df_with_features, test_size=0.2, random_state=42):\n",
    "    \"\"\"\n",
    "    Prepare data for modeling with time-series features.\n",
    "    \n",
    "    Args:\n",
    "        df_with_features: DataFrame with original and rolling features\n",
    "        test_size: Proportion of data for testing\n",
    "        random_state: Random seed for reproducibility\n",
    "        \n",
    "    Returns:\n",
    "        X_train, X_test, y_train, y_test\n",
    "    \"\"\"\n",
    "    # YOUR CODE HERE\n",
    "    # 1. Select relevant features including the rolling features\n",
    "    # 2. Select target variable (disease_outcome)\n",
    "    # 3. Split data into training and testing sets\n",
    "    # 4. Handle missing values\n",
    "    \n",
    "    features = ['age', 'systolic_bp', 'diastolic_bp', 'glucose_level', 'bmi',\n",
    "                'hr_rolling_mean', 'hr_rolling_std']\n",
    "    target = 'disease_outcome'\n",
    "\n",
    "    X = df_with_features[features]\n",
    "    y = df_with_features[target]\n",
    "\n",
    "    # Handle missing values\n",
    "    imputer = SimpleImputer(strategy='mean')\n",
    "    X = imputer.fit_transform(X)\n",
    "\n",
    "    X_train, X_test, y_train, y_test = train_test_split(X, y,\n",
    "                                                        test_size=test_size,\n",
    "                                                        random_state=random_state)\n",
    "    return X_train, X_test, y_train, y_test"
   ]
  },
  {
   "cell_type": "markdown",
   "id": "cf5a72e3",
   "metadata": {},
   "source": [
    "## 5. Random Forest Model\n",
    "\n",
    "Implement `train_random_forest`."
   ]
  },
  {
   "cell_type": "code",
   "execution_count": 6,
   "id": "6aa3e61d",
   "metadata": {},
   "outputs": [],
   "source": [
    "def train_random_forest(X_train, y_train, n_estimators=100, max_depth=10, random_state=42):\n",
    "    \"\"\"\n",
    "    Train a Random Forest classifier.\n",
    "    \n",
    "    Args:\n",
    "        X_train: Training features\n",
    "        y_train: Training target\n",
    "        n_estimators: Number of trees in the forest\n",
    "        max_depth: Maximum depth of the trees\n",
    "        random_state: Random seed for reproducibility\n",
    "        \n",
    "    Returns:\n",
    "        Trained Random Forest model\n",
    "    \"\"\"\n",
    "    # Initialize and train a RandomForestClassifier\n",
    "    \n",
    "    rf_model = RandomForestClassifier(n_estimators=n_estimators,\n",
    "                                   max_depth=max_depth,\n",
    "                                   random_state=random_state)\n",
    "    rf_model.fit(X_train, y_train)\n",
    "    return rf_model\n"
   ]
  },
  {
   "cell_type": "markdown",
   "id": "eeee5bda",
   "metadata": {},
   "source": [
    "## 6. XGBoost Model\n",
    "\n",
    "Implement `train_xgboost`."
   ]
  },
  {
   "cell_type": "code",
   "execution_count": 7,
   "id": "7d650a9a",
   "metadata": {},
   "outputs": [],
   "source": [
    "def train_xgboost(X_train, y_train, n_estimators=100, learning_rate=0.1, max_depth=5, random_state=42):\n",
    "    \"\"\"\n",
    "    Train an XGBoost classifier.\n",
    "    \n",
    "    Args:\n",
    "        X_train: Training features\n",
    "        y_train: Training target\n",
    "        n_estimators: Number of boosting rounds\n",
    "        learning_rate: Boosting learning rate\n",
    "        max_depth: Maximum depth of a tree\n",
    "        random_state: Random seed for reproducibility\n",
    "        \n",
    "    Returns:\n",
    "        Trained XGBoost model\n",
    "    \"\"\"\n",
    "    # Initialize and train an XGBClassifier\n",
    "    xgb_model = xgb.XGBClassifier(n_estimators=n_estimators,\n",
    "                              learning_rate=learning_rate,\n",
    "                              max_depth=max_depth,\n",
    "                              use_label_encoder=False,\n",
    "                              eval_metric='logloss',\n",
    "                              random_state=random_state)\n",
    "    xgb_model.fit(X_train, y_train)\n",
    "    return xgb_model\n"
   ]
  },
  {
   "cell_type": "markdown",
   "id": "cca9cbf5",
   "metadata": {},
   "source": [
    "## 7. Model Comparison\n",
    "\n",
    "Calculate and compare AUC scores for both models."
   ]
  },
  {
   "cell_type": "code",
   "execution_count": 8,
   "id": "3f0a162c",
   "metadata": {},
   "outputs": [
    {
     "name": "stderr",
     "output_type": "stream",
     "text": [
      "/tmp/ipykernel_48885/56447352.py:47: FutureWarning: DataFrame.fillna with 'method' is deprecated and will raise in a future version. Use obj.ffill() or obj.bfill() instead.\n",
      "  df_result = df_result.fillna(method='bfill')\n"
     ]
    },
    {
     "name": "stdout",
     "output_type": "stream",
     "text": [
      "Random Forest AUC: 0.9782\n",
      "XGBoost AUC: 0.9969\n"
     ]
    },
    {
     "name": "stderr",
     "output_type": "stream",
     "text": [
      "/home/codespace/.local/lib/python3.12/site-packages/xgboost/core.py:158: UserWarning: [23:06:17] WARNING: /workspace/src/learner.cc:740: \n",
      "Parameters: { \"use_label_encoder\" } are not used.\n",
      "\n",
      "  warnings.warn(smsg, UserWarning)\n"
     ]
    }
   ],
   "source": [
    "# 1. Generate probability predictions for both models\n",
    "# 2. Calculate AUC scores\n",
    "# 3. Compare the performance\n",
    "\n",
    "# load the data\n",
    "df = load_data('data/synthetic_health_data.csv')\n",
    "\n",
    "# Extract rolling features with a 2-day (172800 seconds) window\n",
    "df_with_features = extract_rolling_features(df, window_size_seconds=172800)\n",
    "\n",
    "# prep\n",
    "X_train, X_test, y_train, y_test = prepare_data_part2(df_with_features)\n",
    "\n",
    "# train the models\n",
    "rf_model = train_random_forest(X_train, y_train)\n",
    "xgb_model = train_xgboost(X_train, y_train)  # Assuming you also have a train_xgboost function\n",
    "\n",
    "rf_probs = rf_model.predict_proba(X_test)[:, 1]\n",
    "xgb_probs = xgb_model.predict_proba(X_test)[:, 1]\n",
    "\n",
    "rf_auc = roc_auc_score(y_test, rf_probs)\n",
    "xgb_auc = roc_auc_score(y_test, xgb_probs)\n",
    "\n",
    "print(f\"Random Forest AUC: {rf_auc:.4f}\")\n",
    "print(f\"XGBoost AUC: {xgb_auc:.4f}\")\n"
   ]
  },
  {
   "cell_type": "markdown",
   "id": "073904d1",
   "metadata": {},
   "source": [
    "## 8. Save Results\n",
    "\n",
    "Save the AUC scores to a text file."
   ]
  },
  {
   "cell_type": "code",
   "execution_count": 9,
   "id": "db08df37",
   "metadata": {},
   "outputs": [],
   "source": [
    "# YOUR CODE HERE\n",
    "# 1. Create 'results' directory if it doesn't exist\n",
    "# 2. Format AUC scores as strings\n",
    "# 3. Write scores to 'results/results_part2.txt'\n",
    "\n",
    "\n",
    "def save_auc_scores(rf_auc, xgb_auc, filepath='results/results_part2.txt'):\n",
    "    os.makedirs('results', exist_ok=True)\n",
    "    with open(filepath, 'w') as f:\n",
    "        f.write(f\"Random Forest AUC: {rf_auc:.4f}\\n\")\n",
    "        f.write(f\"XGBoost AUC: {xgb_auc:.4f}\\n\")\n",
    "\n",
    "save_auc_scores(rf_auc, xgb_auc)"
   ]
  },
  {
   "cell_type": "markdown",
   "id": "44128bd7",
   "metadata": {},
   "source": [
    "## 9. Main Execution\n",
    "\n",
    "Run the complete workflow."
   ]
  },
  {
   "cell_type": "code",
   "execution_count": 10,
   "id": "dba9ef6c",
   "metadata": {},
   "outputs": [
    {
     "name": "stderr",
     "output_type": "stream",
     "text": [
      "/tmp/ipykernel_48885/56447352.py:47: FutureWarning: DataFrame.fillna with 'method' is deprecated and will raise in a future version. Use obj.ffill() or obj.bfill() instead.\n",
      "  df_result = df_result.fillna(method='bfill')\n"
     ]
    },
    {
     "name": "stdout",
     "output_type": "stream",
     "text": [
      "Random Forest AUC: 0.9735\n",
      "XGBoost AUC: 0.9953\n"
     ]
    },
    {
     "name": "stderr",
     "output_type": "stream",
     "text": [
      "/home/codespace/.local/lib/python3.12/site-packages/xgboost/core.py:158: UserWarning: [23:06:18] WARNING: /workspace/src/learner.cc:740: \n",
      "Parameters: { \"use_label_encoder\" } are not used.\n",
      "\n",
      "  warnings.warn(smsg, UserWarning)\n"
     ]
    }
   ],
   "source": [
    "# Main execution\n",
    "if __name__ == \"__main__\":\n",
    "    # 1. Load data\n",
    "    data_file = 'data/synthetic_health_data.csv'\n",
    "    df = load_data(data_file)\n",
    "    \n",
    "    # 2. Extract rolling features\n",
    "    window_size = 300  # 5 minutes in seconds\n",
    "    df_with_features = extract_rolling_features(df, window_size)\n",
    "    \n",
    "    # 3. Prepare data\n",
    "    X_train, X_test, y_train, y_test = prepare_data_part2(df_with_features)\n",
    "    \n",
    "    # 4. Train models\n",
    "    rf_model = train_random_forest(X_train, y_train)\n",
    "    xgb_model = train_xgboost(X_train, y_train)\n",
    "    \n",
    "    # 5. Calculate AUC scores\n",
    "    rf_probs = rf_model.predict_proba(X_test)[:, 1]\n",
    "    xgb_probs = xgb_model.predict_proba(X_test)[:, 1]\n",
    "    \n",
    "    rf_auc = roc_auc_score(y_test, rf_probs)\n",
    "    xgb_auc = roc_auc_score(y_test, xgb_probs)\n",
    "    \n",
    "    print(f\"Random Forest AUC: {rf_auc:.4f}\")\n",
    "    print(f\"XGBoost AUC: {xgb_auc:.4f}\")\n",
    "    \n",
    "    # 6. Save results\n",
    "    save_auc_scores(rf_auc, xgb_auc)"
   ]
  }
 ],
 "metadata": {
  "kernelspec": {
   "display_name": "Python 3",
   "language": "python",
   "name": "python3"
  },
  "language_info": {
   "codemirror_mode": {
    "name": "ipython",
    "version": 3
   },
   "file_extension": ".py",
   "mimetype": "text/x-python",
   "name": "python",
   "nbconvert_exporter": "python",
   "pygments_lexer": "ipython3",
   "version": "3.12.1"
  }
 },
 "nbformat": 4,
 "nbformat_minor": 5
}
